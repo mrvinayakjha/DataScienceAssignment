{
 "cells": [
  {
   "cell_type": "markdown",
   "id": "90e5d7f1",
   "metadata": {},
   "source": [
    "# Assignment 1\n",
    "### Q1. Create one variable containing following type of data:\n",
    "\n",
    "* (i) string\n",
    "* (ii) list\n",
    "* (iii) float\n",
    "* (iv) tuple "
   ]
  },
  {
   "cell_type": "code",
   "execution_count": 1,
   "id": "2b353333",
   "metadata": {},
   "outputs": [],
   "source": [
    "#creating variable containing string datatype\n",
    "a=\"vinayak\"\n",
    "#creating variable containing list datatype\n",
    "b=[\"mango\",\"apple\",\"orange\",\"strawberry\"]\n",
    "#creating variable containing float datatype\n",
    "c=3.98\n",
    "#creating variable containing tuple datatype\n",
    "d=(\"rohit\",\"raju\",\"rohan\",\"Ramesh\")\n",
    "#creating variable containing nested tuple \n",
    "e=(1,2,3,4,(5,6,7,8))"
   ]
  },
  {
   "cell_type": "markdown",
   "id": "5ebb11a8",
   "metadata": {},
   "source": [
    "### Q2. Given are some following variables containing data:\n",
    "\n",
    "* (i) var1 = ‘ ‘\n",
    "\n",
    "* (ii) var2 = ‘[ DS , ML , Python]’\n",
    "\n",
    "* (iii) var3 = [ ‘DS’ , ’ML’ , ‘Python’ ]\n",
    "\n",
    "* (iv) var4 = 1.\n",
    "\n",
    "What will be the data type of the above given variable."
   ]
  },
  {
   "cell_type": "code",
   "execution_count": 2,
   "id": "14b88de5",
   "metadata": {},
   "outputs": [],
   "source": [
    "var1 = \"\""
   ]
  },
  {
   "cell_type": "code",
   "execution_count": 3,
   "id": "e25a669b",
   "metadata": {},
   "outputs": [],
   "source": [
    "var2 = \"[ DS , ML , Python]\""
   ]
  },
  {
   "cell_type": "code",
   "execution_count": 4,
   "id": "3fb18804",
   "metadata": {},
   "outputs": [],
   "source": [
    "var3 = [ \"DS\" , \"ML\" , \"Python\" ]"
   ]
  },
  {
   "cell_type": "code",
   "execution_count": 5,
   "id": "281f1b60",
   "metadata": {},
   "outputs": [],
   "source": [
    "var4 = 1"
   ]
  },
  {
   "cell_type": "code",
   "execution_count": 6,
   "id": "cc6627a6",
   "metadata": {},
   "outputs": [
    {
     "data": {
      "text/plain": [
       "str"
      ]
     },
     "execution_count": 6,
     "metadata": {},
     "output_type": "execute_result"
    }
   ],
   "source": [
    "type(var1)"
   ]
  },
  {
   "cell_type": "code",
   "execution_count": 7,
   "id": "8554c4d7",
   "metadata": {},
   "outputs": [
    {
     "data": {
      "text/plain": [
       "str"
      ]
     },
     "execution_count": 7,
     "metadata": {},
     "output_type": "execute_result"
    }
   ],
   "source": [
    "type(var2)"
   ]
  },
  {
   "cell_type": "code",
   "execution_count": 8,
   "id": "6e9791c8",
   "metadata": {},
   "outputs": [
    {
     "data": {
      "text/plain": [
       "list"
      ]
     },
     "execution_count": 8,
     "metadata": {},
     "output_type": "execute_result"
    }
   ],
   "source": [
    "type(var3)"
   ]
  },
  {
   "cell_type": "code",
   "execution_count": 9,
   "id": "6f115058",
   "metadata": {},
   "outputs": [
    {
     "data": {
      "text/plain": [
       "int"
      ]
     },
     "execution_count": 9,
     "metadata": {},
     "output_type": "execute_result"
    }
   ],
   "source": [
    "type(var4)"
   ]
  },
  {
   "cell_type": "markdown",
   "id": "49788020",
   "metadata": {},
   "source": [
    "### Q3. Explain the use of the following operators using an example:\n",
    "* (i) /\n",
    "* (ii) %\n",
    "* (iii) // \n",
    "* (iv) ** "
   ]
  },
  {
   "cell_type": "code",
   "execution_count": 10,
   "id": "1ba3e475",
   "metadata": {},
   "outputs": [
    {
     "name": "stdout",
     "output_type": "stream",
     "text": [
      "Division:  3.6666666666666665\n",
      "Floor Division:  3\n",
      "Modulo:  2\n",
      "Power:  1331\n"
     ]
    }
   ],
   "source": [
    "a = 11\n",
    "b = 3\n",
    "\n",
    "# division\n",
    "print ('Division: ', a / b) \n",
    "\n",
    "# floor division\n",
    "print ('Floor Division: ', a // b)\n",
    "\n",
    "# modulo\n",
    "print ('Modulo: ', a % b)  \n",
    "\n",
    "# a to the power b\n",
    "print ('Power: ', a ** b)   "
   ]
  },
  {
   "cell_type": "markdown",
   "id": "798659cc",
   "metadata": {},
   "source": [
    "### Q4. Create a list of length 10 of your choice containing multiple types of data. Using for loop print the element and its data type."
   ]
  },
  {
   "cell_type": "code",
   "execution_count": 11,
   "id": "5f2aae16",
   "metadata": {},
   "outputs": [],
   "source": [
    "lst=[\"vinayak\",1,2,3,98.7,(8,7,6,5),['a','b','c'],{\"vinayak\",\"piyush\",\"ashmita\",\"arunima\"},{9,10,11,22},\"rajasthan\"]"
   ]
  },
  {
   "cell_type": "code",
   "execution_count": 12,
   "id": "b9991250",
   "metadata": {},
   "outputs": [
    {
     "name": "stdout",
     "output_type": "stream",
     "text": [
      "vinayak <class 'str'>\n",
      "1 <class 'int'>\n",
      "2 <class 'int'>\n",
      "3 <class 'int'>\n",
      "98.7 <class 'float'>\n",
      "(8, 7, 6, 5) <class 'tuple'>\n",
      "['a', 'b', 'c'] <class 'list'>\n",
      "{'vinayak', 'ashmita', 'arunima', 'piyush'} <class 'set'>\n",
      "{9, 10, 11, 22} <class 'set'>\n",
      "rajasthan <class 'str'>\n"
     ]
    }
   ],
   "source": [
    "for i in lst:\n",
    "    print(i,type(i))"
   ]
  },
  {
   "cell_type": "markdown",
   "id": "cf9321d7",
   "metadata": {},
   "source": [
    "### Q5. Using a while loop, verify if the number A is purely divisible by number B and if so then how many times it can be divisible."
   ]
  },
  {
   "cell_type": "code",
   "execution_count": 13,
   "id": "3a860d82",
   "metadata": {},
   "outputs": [
    {
     "name": "stdout",
     "output_type": "stream",
     "text": [
      "The number 37 is not divisible by 6.\n"
     ]
    }
   ],
   "source": [
    "number_a = 37\n",
    "number_b = 6\n",
    "count = 0\n",
    "\n",
    "while number_a % number_b == 0:\n",
    "    count += 1\n",
    "    number_a = number_a / number_b\n",
    "\n",
    "if count > 0:\n",
    "    print(f\"The number {number_a} is divisible by {number_b} {count} times.\")\n",
    "else:\n",
    "    print(f\"The number {number_a} is not divisible by {number_b}.\")"
   ]
  },
  {
   "cell_type": "code",
   "execution_count": null,
   "id": "cd9b4e54",
   "metadata": {},
   "outputs": [],
   "source": []
  },
  {
   "cell_type": "markdown",
   "id": "44c405ad",
   "metadata": {},
   "source": [
    "### Q6. Create a list containing 25 int type data. Using for loop and if-else condition print if the element is divisible by 3 or not."
   ]
  },
  {
   "cell_type": "code",
   "execution_count": 14,
   "id": "53b4cc5f",
   "metadata": {},
   "outputs": [
    {
     "name": "stdout",
     "output_type": "stream",
     "text": [
      "12 is divisible by 3.\n",
      "7 is not divisible by 3.\n",
      "18 is divisible by 3.\n",
      "9 is divisible by 3.\n",
      "5 is not divisible by 3.\n",
      "27 is divisible by 3.\n",
      "36 is divisible by 3.\n",
      "14 is not divisible by 3.\n",
      "21 is divisible by 3.\n",
      "30 is divisible by 3.\n",
      "16 is not divisible by 3.\n",
      "10 is not divisible by 3.\n",
      "33 is divisible by 3.\n",
      "22 is not divisible by 3.\n",
      "8 is not divisible by 3.\n",
      "25 is not divisible by 3.\n",
      "6 is divisible by 3.\n",
      "15 is divisible by 3.\n",
      "4 is not divisible by 3.\n",
      "11 is not divisible by 3.\n",
      "20 is not divisible by 3.\n",
      "24 is divisible by 3.\n",
      "17 is not divisible by 3.\n",
      "3 is divisible by 3.\n",
      "28 is not divisible by 3.\n"
     ]
    }
   ],
   "source": [
    "numbers = [12, 7, 18, 9, 5, 27, 36, 14, 21, 30, 16, 10, 33, 22, 8, 25, 6, 15, 4, 11, 20, 24, 17, 3, 28]\n",
    "\n",
    "for number in numbers:\n",
    "    if number % 3 == 0:\n",
    "        print(f\"{number} is divisible by 3.\")\n",
    "    else:\n",
    "        print(f\"{number} is not divisible by 3.\")"
   ]
  },
  {
   "cell_type": "markdown",
   "id": "c2c3b5cf",
   "metadata": {},
   "source": [
    "### Q7. What do you understand about mutable and immutable data types? Give examples for both showing this property."
   ]
  },
  {
   "cell_type": "markdown",
   "id": "9bfc1e14",
   "metadata": {},
   "source": [
    "* In programming, mutable and immutable are terms used to describe the ability of an object or data type to be modified or changed after it is created.\n",
    "\n",
    "#### Immutable Data Types:\n",
    "Immutable data types are those that cannot be modified after they are created. When you perform an operation on an immutable object, a new object is created with the updated value. The original object remains unchanged. Immutable objects are safer to use in multi-threaded environments because they cannot be modified concurrently.\n",
    "\n",
    "* Examples of immutable data types in Python include:\n",
    "\n",
    "\n",
    "* Integer: x = 5. If you perform an operation like x += 1, a new integer object is created with the updated value, while x still refers to the original object.\n",
    "\n",
    "* Float: pi = 3.14. Similar to integers, if you perform an operation like pi *= 2, a new float object is created with the updated value, while pi still refers to the original object.\n",
    "\n",
    "* String: message = \"Hello\". If you perform an operation like message += \" World\", a new string object is created with the concatenated value, while message still refers to the original object.\n",
    "\n",
    "\n",
    "#### Mutable Data Types:\n",
    "Mutable data types, on the other hand, are objects that can be modified after they are created. When you perform an operation on a mutable object, the object itself is modified without creating a new object. This can be useful for scenarios where you need to modify an object in-place.\n",
    "\n",
    "* Examples of mutable data types in Python include:\n",
    "\n",
    "\n",
    "* List: my_list = [1, 2, 3]. If you perform an operation like my_list.append(4), the original list is modified by adding the element 4.\n",
    "\n",
    "* Dictionary: my_dict = {'a': 1, 'b': 2}. If you perform an operation like my_dict['c'] = 3, the original dictionary is modified by adding a new key-value pair.\n",
    "\n",
    "* Set: my_set = {1, 2, 3}. If you perform an operation like my_set.add(4), the original set is modified by adding the element 4.\n",
    "\n",
    "* In both cases, understanding whether a data type is mutable or immutable helps in designing programs, handling data, and ensuring the desired behavior in different scenarios."
   ]
  },
  {
   "cell_type": "code",
   "execution_count": null,
   "id": "0c0f8c86",
   "metadata": {},
   "outputs": [],
   "source": []
  }
 ],
 "metadata": {
  "kernelspec": {
   "display_name": "Python 3 (ipykernel)",
   "language": "python",
   "name": "python3"
  },
  "language_info": {
   "codemirror_mode": {
    "name": "ipython",
    "version": 3
   },
   "file_extension": ".py",
   "mimetype": "text/x-python",
   "name": "python",
   "nbconvert_exporter": "python",
   "pygments_lexer": "ipython3",
   "version": "3.9.7"
  }
 },
 "nbformat": 4,
 "nbformat_minor": 5
}
